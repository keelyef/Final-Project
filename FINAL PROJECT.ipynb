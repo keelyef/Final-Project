{
 "cells": [
  {
   "cell_type": "markdown",
   "metadata": {},
   "source": [
    "My project is a password generator. It prompts the user to input the number of characters that he or she wants the password to contain. Then, it checks parameters based on the user's input, before generating the password. If the user responds to the question asking how many characters are desired in the password with anything that is not an integer, the program will tell the user that their response is invalid and to try again. Additionally, if the user inputs an integer that is less than seven, the program will not generate a password, but will prompt the user to enter a higher number of characters so that their password can be stronger. The password is generated within an external module that is imported at the start of the notebook. This module begins with a list of charactres that could be included in the password (every letter of the alphabet, every number, and select special characters), then randomly selects them based on the user's input to create a password of that many characters. Therefore, the notebook flows as follows:\n",
    "\n",
    "1) Asks the user their desired length of the password.\n",
    "\n",
    "2) Validates whether or not their response is an integer.\n",
    "\n",
    "    a) If the response is not an integer, prompts a different response.\n",
    "    \n",
    "3) Validates whether or not their response is greater than 8, so that a strong password may be generated.\n",
    "\n",
    "    b) If the response is less than 8, prompts a different response.\n",
    "    c) If the response is over 100, prompts a different response.\n",
    "    \n",
    "4) Generates a password based off of the number of characters the user enters.\n",
    "\n",
    "The notebook should be run in order from top to bottom, as many functions within it build on each other and the last cell calls them properly to generate the password."
   ]
  },
  {
   "cell_type": "code",
   "execution_count": 2,
   "metadata": {},
   "outputs": [],
   "source": [
    "import string\n",
    "import random\n",
    "\n",
    "# Import the external module with the code to generate the password.\n",
    "from createpw import create_password"
   ]
  },
  {
   "cell_type": "code",
   "execution_count": 3,
   "metadata": {},
   "outputs": [],
   "source": [
    "valid_password = False\n",
    "num_characters = 0"
   ]
  },
  {
   "cell_type": "code",
   "execution_count": 4,
   "metadata": {},
   "outputs": [],
   "source": [
    "def prompt_user ():\n",
    "    '''Asks for number of characters in password.  Checks if input is int.'''    \n",
    "    num_characters = input('How many characters would you like your \\\n",
    "password to include? Respond with a whole number. ')\n",
    "    is_valid = False\n",
    "    \n",
    "    # While is_valid is false, run validate_number.\n",
    "    # This will check to see if the user input is an integer.\n",
    "    # If input is not an integer, prompt the user to respond again.\n",
    "    while is_valid == False:\n",
    "        is_valid = validate_number(num_characters)\n",
    "        if not is_valid:\n",
    "            num_characters = input(\"Invalid response. Enter a number. \")\n",
    "            \n",
    "    # Return the user's input.       \n",
    "    return num_characters"
   ]
  },
  {
   "cell_type": "code",
   "execution_count": 5,
   "metadata": {},
   "outputs": [],
   "source": [
    "def validate_number (user_input):\n",
    "    '''Function that is called in prompt_user to check if input is int.'''\n",
    "    \n",
    "    # If user's input is not an integer, raise a value error.\n",
    "    try:\n",
    "        int(user_input)\n",
    "        return True\n",
    "    except ValueError:\n",
    "        return False"
   ]
  },
  {
   "cell_type": "code",
   "execution_count": 9,
   "metadata": {},
   "outputs": [],
   "source": [
    "def validate_strength (num_characters):\n",
    "    '''Prompts a new input if user input is less than 8.'''\n",
    "    \n",
    "    # If the value of user's input is less than 8, prompts a new input.\n",
    "    # Will continue to do so until input is 8 or greater.\n",
    "    if (int(num_characters))<8:\n",
    "        print(\"Your password is weak. \\\n",
    "Please enter a higher number of characters. \")\n",
    "        return False\n",
    "    \n",
    "    #If the value is over 100, prompts a new input.\n",
    "    elif (int(num_characters))>100:\n",
    "        print(\"Your password is too long. Please enter a number between 8 and 100. \")\n",
    "        return False\n",
    "    else:\n",
    "        return True"
   ]
  },
  {
   "cell_type": "code",
   "execution_count": 7,
   "metadata": {
    "scrolled": true
   },
   "outputs": [
    {
     "name": "stdout",
     "output_type": "stream",
     "text": [
      "How many characters would you like your password to include? Respond with a whole number. 101\n",
      "Your password is too long. Please enter a number between 8 and 100. \n",
      "How many characters would you like your password to include? Respond with a whole number. 9\n",
      "w$scRyi*e\n"
     ]
    }
   ],
   "source": [
    "# Used to call all functions written.\n",
    "# Initiates initial prompt for user input.  Validates input as an int.\n",
    "while valid_password == False:\n",
    "    num_characters = prompt_user()\n",
    "    valid_password = validate_number(num_characters)\n",
    "\n",
    "    # Validates the password's strength.\n",
    "    if valid_password:\n",
    "        valid_password = validate_strength(num_characters)\n",
    "        \n",
    "print(create_password(int(num_characters)))"
   ]
  },
  {
   "cell_type": "code",
   "execution_count": null,
   "metadata": {},
   "outputs": [],
   "source": []
  }
 ],
 "metadata": {
  "kernelspec": {
   "display_name": "Python 3",
   "language": "python",
   "name": "python3"
  },
  "language_info": {
   "codemirror_mode": {
    "name": "ipython",
    "version": 3
   },
   "file_extension": ".py",
   "mimetype": "text/x-python",
   "name": "python",
   "nbconvert_exporter": "python",
   "pygments_lexer": "ipython3",
   "version": "3.7.3"
  }
 },
 "nbformat": 4,
 "nbformat_minor": 2
}
